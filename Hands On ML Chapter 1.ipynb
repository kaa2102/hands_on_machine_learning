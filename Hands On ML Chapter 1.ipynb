{
 "cells": [
  {
   "cell_type": "code",
   "execution_count": 1,
   "id": "ea88cb9b",
   "metadata": {},
   "outputs": [],
   "source": [
    "import pandas as pd\n",
    "import numpy as np\n",
    "import matplotlib.pyplot as plt\n",
    "from sklearn.linear_model import LinearRegression"
   ]
  },
  {
   "cell_type": "code",
   "execution_count": 2,
   "id": "1e73b5c4",
   "metadata": {},
   "outputs": [],
   "source": [
    "# Source = Hands On Machine Learning with Sci-Kit Learn, Keras, & Tensorflow\n",
    "# Download + Prepare the Data\n",
    "data_root= \"https://github.com/ageron/data/raw/main/\"\n",
    "lifesat = pd.read_csv(data_root + \"lifesat/lifesat.csv\")\n",
    "X = lifesat[[\"GDP per capita (USD)\"]].values\n",
    "y = lifesat[[\"Life satisfaction\"]].values"
   ]
  },
  {
   "cell_type": "code",
   "execution_count": 3,
   "id": "3ffa28dc",
   "metadata": {},
   "outputs": [
    {
     "data": {
      "text/plain": [
       "array([[26456.38793813],\n",
       "       [27287.08340093],\n",
       "       [28384.98778463],\n",
       "       [29932.49391006],\n",
       "       [31007.76840654],\n",
       "       [32181.15453723],\n",
       "       [32238.15725928],\n",
       "       [35638.42135118],\n",
       "       [36215.44759073],\n",
       "       [36547.73895598],\n",
       "       [36732.03474403],\n",
       "       [38341.30757041],\n",
       "       [38992.14838075],\n",
       "       [41627.12926943],\n",
       "       [42025.61737306],\n",
       "       [42404.39373816],\n",
       "       [45856.62562648],\n",
       "       [47260.80045844],\n",
       "       [48210.03311134],\n",
       "       [48697.83702825],\n",
       "       [50683.32350972],\n",
       "       [50922.35802345],\n",
       "       [51935.60386182],\n",
       "       [52279.72885136],\n",
       "       [54209.56383573],\n",
       "       [55938.2128086 ],\n",
       "       [60235.7284917 ]])"
      ]
     },
     "execution_count": 3,
     "metadata": {},
     "output_type": "execute_result"
    }
   ],
   "source": [
    "# Display X\n",
    "X"
   ]
  },
  {
   "cell_type": "code",
   "execution_count": 4,
   "id": "b741f6a9",
   "metadata": {},
   "outputs": [
    {
     "data": {
      "text/plain": [
       "array([[5.8],\n",
       "       [5.4],\n",
       "       [5.5],\n",
       "       [5.9],\n",
       "       [5.6],\n",
       "       [5.4],\n",
       "       [6.1],\n",
       "       [5.7],\n",
       "       [6.3],\n",
       "       [5.9],\n",
       "       [5.9],\n",
       "       [7.2],\n",
       "       [6. ],\n",
       "       [6.8],\n",
       "       [6.5],\n",
       "       [7.3],\n",
       "       [7.4],\n",
       "       [7.6],\n",
       "       [6.9],\n",
       "       [7.3],\n",
       "       [7.3],\n",
       "       [7. ],\n",
       "       [7.1],\n",
       "       [7.5],\n",
       "       [7.4],\n",
       "       [7.6],\n",
       "       [6.9]])"
      ]
     },
     "execution_count": 4,
     "metadata": {},
     "output_type": "execute_result"
    }
   ],
   "source": [
    "# Display Y\n",
    "y"
   ]
  },
  {
   "cell_type": "code",
   "execution_count": 5,
   "id": "c11b4168",
   "metadata": {},
   "outputs": [
    {
     "name": "stdout",
     "output_type": "stream",
     "text": [
      "<class 'numpy.ndarray'>\n"
     ]
    }
   ],
   "source": [
    "# Output the Data Type of X \n",
    "print(type(X))"
   ]
  },
  {
   "cell_type": "code",
   "execution_count": 6,
   "id": "310c8f70",
   "metadata": {},
   "outputs": [
    {
     "name": "stdout",
     "output_type": "stream",
     "text": [
      "<class 'numpy.ndarray'>\n"
     ]
    }
   ],
   "source": [
    "# Output the Data Type of Y\n",
    "print(type(y))"
   ]
  },
  {
   "cell_type": "code",
   "execution_count": 7,
   "id": "1b675d47",
   "metadata": {},
   "outputs": [
    {
     "data": {
      "image/png": "[encoded data removed]",
      "text/plain": [
       "<Figure size 640x480 with 1 Axes>"
      ]
     },
     "metadata": {},
     "output_type": "display_data"
    }
   ],
   "source": [
    "# Visualize the Data\n",
    "lifesat.plot(kind='scatter', grid=True,\n",
    "            x=\"GDP per capita (USD)\", y=\"Life satisfaction\")\n",
    "plt.axis([23_500, 62_500,4,9])\n",
    "plt.show()"
   ]
  },
  {
   "cell_type": "code",
   "execution_count": 8,
   "id": "745c9e5a",
   "metadata": {},
   "outputs": [],
   "source": [
    "#Select a Linear Model\n",
    "model = LinearRegression()"
   ]
  },
  {
   "cell_type": "code",
   "execution_count": 9,
   "id": "242f2a2d",
   "metadata": {},
   "outputs": [
    {
     "data": {
      "text/plain": [
       "LinearRegression()"
      ]
     },
     "execution_count": 9,
     "metadata": {},
     "output_type": "execute_result"
    }
   ],
   "source": [
    "# Train the Model \n",
    "model.fit(X,y)"
   ]
  },
  {
   "cell_type": "code",
   "execution_count": 10,
   "id": "616adea1",
   "metadata": {},
   "outputs": [],
   "source": [
    "# Make a Prediction for the Country of Cyprus\n",
    "X_new=[[37_655.2]] # The per capita GDP for Cyprus in 2020"
   ]
  },
  {
   "cell_type": "code",
   "execution_count": 11,
   "id": "cf6c5a19",
   "metadata": {},
   "outputs": [
    {
     "name": "stdout",
     "output_type": "stream",
     "text": [
      "[[6.30165767]]\n"
     ]
    }
   ],
   "source": [
    "print(model.predict(X_new)) #Output ???"
   ]
  }
 ],
 "metadata": {
  "kernelspec": {
   "display_name": "Python 3 (ipykernel)",
   "language": "python",
   "name": "python3"
  },
  "language_info": {
   "codemirror_mode": {
    "name": "ipython",
    "version": 3
   },
   "file_extension": ".py",
   "mimetype": "text/x-python",
   "name": "python",
   "nbconvert_exporter": "python",
   "pygments_lexer": "ipython3",
   "version": "3.9.13"
  }
 },
 "nbformat": 4,
 "nbformat_minor": 5
}
